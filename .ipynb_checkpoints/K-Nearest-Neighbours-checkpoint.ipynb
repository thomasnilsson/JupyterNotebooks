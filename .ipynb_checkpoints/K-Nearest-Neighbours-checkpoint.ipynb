{
 "cells": [
  {
   "cell_type": "code",
   "execution_count": 3,
   "metadata": {
    "collapsed": true
   },
   "outputs": [],
   "source": [
    "import numpy as np\n",
    "import matplotlib.pyplot as plt"
   ]
  },
  {
   "cell_type": "code",
   "execution_count": 22,
   "metadata": {
    "collapsed": false
   },
   "outputs": [
    {
     "data": {
      "image/png": "[encoded data removed]",
      "text/plain": [
       "<matplotlib.figure.Figure at 0x10d34e8d0>"
      ]
     },
     "metadata": {},
     "output_type": "display_data"
    }
   ],
   "source": [
    "x = [2., 1., 1., 3., 10., 9., 9., 8.]\n",
    "y = [0., 3., 1., 2., 3., 1., 9., 8.]\n",
    "identity = ['red', 'red', 'red', 'red', 'green', 'green', 'gray', 'gray']\n",
    "\n",
    "plt.figure()\n",
    "plt.scatter(x,y, s=100, color=identity)\n",
    "plt.show()"
   ]
  },
  {
   "cell_type": "code",
   "execution_count": 24,
   "metadata": {
    "collapsed": true
   },
   "outputs": [],
   "source": [
    "def dist(p, q):\n",
    "    if len(p) != len(q):\n",
    "        raise Exception('Points need to have the same dimensions') \n",
    "    s = 0\n",
    "    for i in range (len(p)):\n",
    "        s += abs(p[i] - q[i]) ** 2\n",
    "    return np.sqrt(s)"
   ]
  },
  {
   "cell_type": "code",
   "execution_count": 28,
   "metadata": {
    "collapsed": false
   },
   "outputs": [
    {
     "name": "stdout",
     "output_type": "stream",
     "text": [
      "['yes', 'no', 'maybe', 'go away...']\n",
      "1\n",
      "[1, 2, 3, 4]\n"
     ]
    }
   ],
   "source": [
    "a = []\n",
    "b = ['yes', 'no', 'maybe', 'go away...']\n",
    "for i in range(len(b)):\n",
    "    if b[i] not in a:\n",
    "        a.append(b[i])\n",
    "print(a)\n",
    "\n",
    "print(a.index('no'))\n",
    "\n",
    "c = [1, 2, 3, 1, 1, 2, 3, 4, 2, 2, 3]\n",
    "l = list(set(c))\n",
    "print(l)"
   ]
  },
  {
   "cell_type": "code",
   "execution_count": 58,
   "metadata": {
    "collapsed": false
   },
   "outputs": [],
   "source": [
    "def knn(p, points, labels):\n",
    "    classes = list(set(labels))\n",
    "    weights = [0] * len(classes)\n",
    "    n = len(points)\n",
    "    for i in range(n):\n",
    "        j = classes.index(labels[i])\n",
    "        d = dist(p, points[i])\n",
    "        weights[j] += d\n",
    "    w = weights.index(min(weights))\n",
    "    print(weights)\n",
    "    print(classes)\n",
    "    return classes[w]\n",
    "        "
   ]
  },
  {
   "cell_type": "code",
   "execution_count": 59,
   "metadata": {
    "collapsed": false
   },
   "outputs": [
    {
     "name": "stdout",
     "output_type": "stream",
     "text": [
      "[14.113122279787035, 11.913714425143521, 12.727922061357855]\n",
      "['red', 'green', 'gray']\n"
     ]
    },
    {
     "data": {
      "text/plain": [
       "'green'"
      ]
     },
     "execution_count": 59,
     "metadata": {},
     "output_type": "execute_result"
    }
   ],
   "source": [
    "coords = list(zip(x,y))\n",
    "test_p = [4., 4.]\n",
    "knn(test_p, coords, identity)"
   ]
  },
  {
   "cell_type": "code",
   "execution_count": null,
   "metadata": {
    "collapsed": true
   },
   "outputs": [],
   "source": []
  }
 ],
 "metadata": {
  "kernelspec": {
   "display_name": "Python 3",
   "language": "python",
   "name": "python3"
  },
  "language_info": {
   "codemirror_mode": {
    "name": "ipython",
    "version": 3
   },
   "file_extension": ".py",
   "mimetype": "text/x-python",
   "name": "python",
   "nbconvert_exporter": "python",
   "pygments_lexer": "ipython3",
   "version": "3.6.0"
  }
 },
 "nbformat": 4,
 "nbformat_minor": 2
}
