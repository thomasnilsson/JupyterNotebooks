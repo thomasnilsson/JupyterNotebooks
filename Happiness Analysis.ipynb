{
 "cells": [
  {
   "cell_type": "code",
   "execution_count": 1,
   "metadata": {
    "collapsed": true
   },
   "outputs": [],
   "source": [
    "import numpy as np\n",
    "import pandas as pd\n",
    "import matplotlib.pyplot as plt\n",
    "% matplotlib inline\n",
    "plt.style.use('ggplot')"
   ]
  },
  {
   "cell_type": "markdown",
   "metadata": {},
   "source": [
    "## Global Happiness data set from Kaggle.com"
   ]
  },
  {
   "cell_type": "markdown",
   "metadata": {},
   "source": [
    "Inspired by the following video from Stanford CS50:"
   ]
  },
  {
   "cell_type": "code",
   "execution_count": 2,
   "metadata": {
    "collapsed": false
   },
   "outputs": [
    {
     "data": {
      "image/jpeg": "[encoded data removed]",
      "text/html": [
       "\n",
       "        <iframe\n",
       "            width=\"450\"\n",
       "            height=\"200\"\n",
       "            src=\"https://www.youtube.com/embed/POe1cufDWFs\"\n",
       "            frameborder=\"0\"\n",
       "            allowfullscreen\n",
       "        ></iframe>\n",
       "        "
      ],
      "text/plain": [
       "<IPython.lib.display.YouTubeVideo at 0x11af89ba8>"
      ]
     },
     "execution_count": 2,
     "metadata": {},
     "output_type": "execute_result"
    }
   ],
   "source": [
    "from IPython.display import YouTubeVideo\n",
    "YouTubeVideo(\"POe1cufDWFs\",width=450, height=200)"
   ]
  },
  {
   "cell_type": "code",
   "execution_count": 3,
   "metadata": {
    "collapsed": false,
    "scrolled": false
   },
   "outputs": [
    {
     "data": {
      "text/html": [
       "<div>\n",
       "<style>\n",
       "    .dataframe thead tr:only-child th {\n",
       "        text-align: right;\n",
       "    }\n",
       "\n",
       "    .dataframe thead th {\n",
       "        text-align: left;\n",
       "    }\n",
       "\n",
       "    .dataframe tbody tr th {\n",
       "        vertical-align: top;\n",
       "    }\n",
       "</style>\n",
       "<table border=\"1\" class=\"dataframe\">\n",
       "  <thead>\n",
       "    <tr style=\"text-align: right;\">\n",
       "      <th></th>\n",
       "      <th>Country</th>\n",
       "      <th>Region</th>\n",
       "      <th>Happiness Rank</th>\n",
       "      <th>Happiness Score</th>\n",
       "      <th>Lower Confidence Interval</th>\n",
       "      <th>Upper Confidence Interval</th>\n",
       "      <th>Economy (GDP per Capita)</th>\n",
       "      <th>Family</th>\n",
       "      <th>Health (Life Expectancy)</th>\n",
       "      <th>Freedom</th>\n",
       "      <th>Trust (Government Corruption)</th>\n",
       "      <th>Generosity</th>\n",
       "      <th>Dystopia Residual</th>\n",
       "    </tr>\n",
       "  </thead>\n",
       "  <tbody>\n",
       "    <tr>\n",
       "      <th>0</th>\n",
       "      <td>Denmark</td>\n",
       "      <td>Western Europe</td>\n",
       "      <td>1</td>\n",
       "      <td>7.526</td>\n",
       "      <td>7.460</td>\n",
       "      <td>7.592</td>\n",
       "      <td>1.44178</td>\n",
       "      <td>1.16374</td>\n",
       "      <td>0.79504</td>\n",
       "      <td>0.57941</td>\n",
       "      <td>0.44453</td>\n",
       "      <td>0.36171</td>\n",
       "      <td>2.73939</td>\n",
       "    </tr>\n",
       "    <tr>\n",
       "      <th>1</th>\n",
       "      <td>Switzerland</td>\n",
       "      <td>Western Europe</td>\n",
       "      <td>2</td>\n",
       "      <td>7.509</td>\n",
       "      <td>7.428</td>\n",
       "      <td>7.590</td>\n",
       "      <td>1.52733</td>\n",
       "      <td>1.14524</td>\n",
       "      <td>0.86303</td>\n",
       "      <td>0.58557</td>\n",
       "      <td>0.41203</td>\n",
       "      <td>0.28083</td>\n",
       "      <td>2.69463</td>\n",
       "    </tr>\n",
       "    <tr>\n",
       "      <th>2</th>\n",
       "      <td>Iceland</td>\n",
       "      <td>Western Europe</td>\n",
       "      <td>3</td>\n",
       "      <td>7.501</td>\n",
       "      <td>7.333</td>\n",
       "      <td>7.669</td>\n",
       "      <td>1.42666</td>\n",
       "      <td>1.18326</td>\n",
       "      <td>0.86733</td>\n",
       "      <td>0.56624</td>\n",
       "      <td>0.14975</td>\n",
       "      <td>0.47678</td>\n",
       "      <td>2.83137</td>\n",
       "    </tr>\n",
       "    <tr>\n",
       "      <th>3</th>\n",
       "      <td>Norway</td>\n",
       "      <td>Western Europe</td>\n",
       "      <td>4</td>\n",
       "      <td>7.498</td>\n",
       "      <td>7.421</td>\n",
       "      <td>7.575</td>\n",
       "      <td>1.57744</td>\n",
       "      <td>1.12690</td>\n",
       "      <td>0.79579</td>\n",
       "      <td>0.59609</td>\n",
       "      <td>0.35776</td>\n",
       "      <td>0.37895</td>\n",
       "      <td>2.66465</td>\n",
       "    </tr>\n",
       "    <tr>\n",
       "      <th>4</th>\n",
       "      <td>Finland</td>\n",
       "      <td>Western Europe</td>\n",
       "      <td>5</td>\n",
       "      <td>7.413</td>\n",
       "      <td>7.351</td>\n",
       "      <td>7.475</td>\n",
       "      <td>1.40598</td>\n",
       "      <td>1.13464</td>\n",
       "      <td>0.81091</td>\n",
       "      <td>0.57104</td>\n",
       "      <td>0.41004</td>\n",
       "      <td>0.25492</td>\n",
       "      <td>2.82596</td>\n",
       "    </tr>\n",
       "    <tr>\n",
       "      <th>5</th>\n",
       "      <td>Canada</td>\n",
       "      <td>North America</td>\n",
       "      <td>6</td>\n",
       "      <td>7.404</td>\n",
       "      <td>7.335</td>\n",
       "      <td>7.473</td>\n",
       "      <td>1.44015</td>\n",
       "      <td>1.09610</td>\n",
       "      <td>0.82760</td>\n",
       "      <td>0.57370</td>\n",
       "      <td>0.31329</td>\n",
       "      <td>0.44834</td>\n",
       "      <td>2.70485</td>\n",
       "    </tr>\n",
       "    <tr>\n",
       "      <th>6</th>\n",
       "      <td>Netherlands</td>\n",
       "      <td>Western Europe</td>\n",
       "      <td>7</td>\n",
       "      <td>7.339</td>\n",
       "      <td>7.284</td>\n",
       "      <td>7.394</td>\n",
       "      <td>1.46468</td>\n",
       "      <td>1.02912</td>\n",
       "      <td>0.81231</td>\n",
       "      <td>0.55211</td>\n",
       "      <td>0.29927</td>\n",
       "      <td>0.47416</td>\n",
       "      <td>2.70749</td>\n",
       "    </tr>\n",
       "  </tbody>\n",
       "</table>\n",
       "</div>"
      ],
      "text/plain": [
       "       Country          Region  Happiness Rank  Happiness Score  \\\n",
       "0      Denmark  Western Europe               1            7.526   \n",
       "1  Switzerland  Western Europe               2            7.509   \n",
       "2      Iceland  Western Europe               3            7.501   \n",
       "3       Norway  Western Europe               4            7.498   \n",
       "4      Finland  Western Europe               5            7.413   \n",
       "5       Canada   North America               6            7.404   \n",
       "6  Netherlands  Western Europe               7            7.339   \n",
       "\n",
       "   Lower Confidence Interval  Upper Confidence Interval  \\\n",
       "0                      7.460                      7.592   \n",
       "1                      7.428                      7.590   \n",
       "2                      7.333                      7.669   \n",
       "3                      7.421                      7.575   \n",
       "4                      7.351                      7.475   \n",
       "5                      7.335                      7.473   \n",
       "6                      7.284                      7.394   \n",
       "\n",
       "   Economy (GDP per Capita)   Family  Health (Life Expectancy)  Freedom  \\\n",
       "0                   1.44178  1.16374                   0.79504  0.57941   \n",
       "1                   1.52733  1.14524                   0.86303  0.58557   \n",
       "2                   1.42666  1.18326                   0.86733  0.56624   \n",
       "3                   1.57744  1.12690                   0.79579  0.59609   \n",
       "4                   1.40598  1.13464                   0.81091  0.57104   \n",
       "5                   1.44015  1.09610                   0.82760  0.57370   \n",
       "6                   1.46468  1.02912                   0.81231  0.55211   \n",
       "\n",
       "   Trust (Government Corruption)  Generosity  Dystopia Residual  \n",
       "0                        0.44453     0.36171            2.73939  \n",
       "1                        0.41203     0.28083            2.69463  \n",
       "2                        0.14975     0.47678            2.83137  \n",
       "3                        0.35776     0.37895            2.66465  \n",
       "4                        0.41004     0.25492            2.82596  \n",
       "5                        0.31329     0.44834            2.70485  \n",
       "6                        0.29927     0.47416            2.70749  "
      ]
     },
     "execution_count": 3,
     "metadata": {},
     "output_type": "execute_result"
    }
   ],
   "source": [
    "df = pd.read_csv('2016.csv')\n",
    "df.head(7)"
   ]
  },
  {
   "cell_type": "code",
   "execution_count": 4,
   "metadata": {
    "collapsed": true
   },
   "outputs": [],
   "source": [
    "economy = df['Economy (GDP per Capita)']\n",
    "happiness = df['Happiness Score']"
   ]
  },
  {
   "cell_type": "markdown",
   "metadata": {},
   "source": [
    "By using simple linear regression we can draw a trend line for $H(E) = aE+b$ where $H$ is happiness, and $E$ is GDP per Capita. \n",
    "\n",
    "To find $a$ and $b$ we use the sum of squares method [(Reference)](https://02402.compute.dtu.dk/enotes/chapter5-SimpleLinearRegression)"
   ]
  },
  {
   "cell_type": "code",
   "execution_count": 7,
   "metadata": {
    "collapsed": false
   },
   "outputs": [],
   "source": [
    "def SXX(x):\n",
    "    xm = np.mean(x)\n",
    "    s = 0\n",
    "    for i in range (len(x)):\n",
    "        s += (x[i] - xm) ** 2\n",
    "    return s"
   ]
  },
  {
   "cell_type": "code",
   "execution_count": 8,
   "metadata": {
    "collapsed": true
   },
   "outputs": [],
   "source": [
    "def beta1(x, y):\n",
    "    xm = np.mean(x)\n",
    "    ym = np.mean(y)\n",
    "    s = 0\n",
    "    for i in range(len(y)):\n",
    "        s += (y[i] - ym) * (x[i] - xm) / SXX(x)\n",
    "    return s"
   ]
  },
  {
   "cell_type": "code",
   "execution_count": 11,
   "metadata": {
    "collapsed": true
   },
   "outputs": [],
   "source": [
    "def beta0(x, y):\n",
    "    xm = np.mean(x)\n",
    "    ym = np.mean(y)\n",
    "    b1 = beta1(x, y)\n",
    "    return ym - (b1 * xm)"
   ]
  },
  {
   "cell_type": "code",
   "execution_count": 12,
   "metadata": {
    "collapsed": false
   },
   "outputs": [],
   "source": [
    "a = beta1(economy, happiness)\n",
    "b = beta0(economy, happiness)"
   ]
  },
  {
   "cell_type": "code",
   "execution_count": 14,
   "metadata": {
    "collapsed": false
   },
   "outputs": [],
   "source": [
    "yEstimate = list(map(lambda x: (a * x) + b , economy))"
   ]
  },
  {
   "cell_type": "code",
   "execution_count": 16,
   "metadata": {
    "collapsed": false
   },
   "outputs": [
    {
     "data": {
      "image/png": "[encoded data removed]",
      "text/plain": [
       "<matplotlib.figure.Figure at 0x11eeda208>"
      ]
     },
     "metadata": {},
     "output_type": "display_data"
    }
   ],
   "source": [
    "plt.figure(figsize = (15,5))\n",
    "plt.plot(economy, happiness, linestyle='None', marker='o', color='r')\n",
    "plt.plot(economy, yEstimate, color='g')\n",
    "plt.title('Global Happiness Scores 2016')\n",
    "plt.xlabel('Country GDP per Capita')\n",
    "plt.ylabel('Country Happiness Score')\n",
    "plt.show()\n"
   ]
  },
  {
   "cell_type": "markdown",
   "metadata": {},
   "source": [
    "### As we can see, money apparently does makes you happy - who would have known?!"
   ]
  }
 ],
 "metadata": {
  "kernelspec": {
   "display_name": "Python 3",
   "language": "python",
   "name": "python3"
  },
  "language_info": {
   "codemirror_mode": {
    "name": "ipython",
    "version": 3
   },
   "file_extension": ".py",
   "mimetype": "text/x-python",
   "name": "python",
   "nbconvert_exporter": "python",
   "pygments_lexer": "ipython3",
   "version": "3.6.1"
  }
 },
 "nbformat": 4,
 "nbformat_minor": 2
}
