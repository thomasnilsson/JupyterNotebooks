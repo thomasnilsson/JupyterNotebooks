{
 "cells": [
  {
   "cell_type": "markdown",
   "metadata": {},
   "source": [
    "## Lecture 7 in CS50 2016"
   ]
  },
  {
   "cell_type": "code",
   "execution_count": 4,
   "metadata": {
    "collapsed": false
   },
   "outputs": [
    {
     "data": {
      "image/jpeg": "[encoded data removed]",
      "text/html": [
       "\n",
       "        <iframe\n",
       "            width=\"450\"\n",
       "            height=\"200\"\n",
       "            src=\"https://www.youtube.com/embed/dgt6IfEXgDk\"\n",
       "            frameborder=\"0\"\n",
       "            allowfullscreen\n",
       "        ></iframe>\n",
       "        "
      ],
      "text/plain": [
       "<IPython.lib.display.YouTubeVideo at 0x1116bbba8>"
      ]
     },
     "execution_count": 4,
     "metadata": {},
     "output_type": "execute_result"
    }
   ],
   "source": [
    "from IPython.display import YouTubeVideo\n",
    "YouTubeVideo(\"dgt6IfEXgDk\",width=450, height=200)"
   ]
  },
  {
   "cell_type": "code",
   "execution_count": 6,
   "metadata": {
    "collapsed": false
   },
   "outputs": [],
   "source": [
    "import numpy as np\n",
    "import matplotlib.pyplot as plt\n",
    "from sklearn import datasets as ds\n",
    "digits = ds.load_digits()"
   ]
  },
  {
   "cell_type": "markdown",
   "metadata": {},
   "source": [
    "### For this lecture we will be using the SciKit-Learn Data Set of hand-drawn digits"
   ]
  },
  {
   "cell_type": "markdown",
   "metadata": {},
   "source": [
    "The hand drawn digits will be contained in the drawn_digits variable, and the real digit which drawn_digits[i] is supposed to look like, is located at real_digits[i]"
   ]
  },
  {
   "cell_type": "code",
   "execution_count": 7,
   "metadata": {
    "collapsed": false
   },
   "outputs": [],
   "source": [
    "drawn_digits = digits.data\n",
    "real_digits = digits.target\n",
    "img = digits.images"
   ]
  },
  {
   "cell_type": "markdown",
   "metadata": {
    "collapsed": true
   },
   "source": [
    "Let us try a random number in the test set. "
   ]
  },
  {
   "cell_type": "code",
   "execution_count": 8,
   "metadata": {
    "collapsed": false,
    "scrolled": true
   },
   "outputs": [
    {
     "data": {
      "image/png": "[encoded data removed]",
      "text/plain": [
       "<matplotlib.figure.Figure at 0x11a4c8be0>"
      ]
     },
     "metadata": {},
     "output_type": "display_data"
    }
   ],
   "source": [
    "plt.figure('Digit 345')\n",
    "plt.imshow(img[345], cmap = plt.cm.gray_r, interpolation = 'nearest')\n",
    "plt.show()"
   ]
  },
  {
   "cell_type": "markdown",
   "metadata": {},
   "source": [
    "This is clearly the number 3.  \n",
    "\n",
    "### Predicting numbers though machine learning\n",
    "To predict what digit the hand drawn digits represent, we will compose a short algorithm, utilizing Nearest Neighbour.\n",
    "\n",
    "This algorithm will be given a test hand-drawn digit, as well as a training set of hand-drawn digits, which is a subset of the drawn digits, not containing the test digit. \n",
    "\n",
    "The algorithm compares each digit in our training set, to the given test digit, and looks for the digit which resembles it the most, by comparing the distance between them, in the 64 dimensional vector space. \n",
    "\n",
    "After deciding upon which training set digit resembles it the most, the algorithm looks up that digit's real digit in the real_digits table, and this will be the prediction.\n",
    "\n",
    "We actually do know the test digits real digit, since it already exists in the real_digits table, so we can then check if the algorithm predicted correctly.\n",
    "\n",
    "If we did not have the actual digit, we could just plot it, and take a look at it with the human eye."
   ]
  },
  {
   "cell_type": "markdown",
   "metadata": {},
   "source": [
    "#### Euclidean Distance in 64 dimensions\n",
    "We will need to compute the Euclidean distance between points in a 64 dimensional space. \n",
    "\n",
    "This is done by using Pythagoras, but instead of only doing this for the horizontal and vertical deltas, it has do be done for all 64 deltas. \n",
    "\n",
    "We can do this in practice by letting a point be represented by a list of coordinates, and then iterate through these coordinates in Python.\n",
    "\n",
    "We will of course require both points to be of the same dimension."
   ]
  },
  {
   "cell_type": "code",
   "execution_count": 9,
   "metadata": {
    "collapsed": true
   },
   "outputs": [],
   "source": [
    "def dist(p, q):\n",
    "    if len(p) != len(q):\n",
    "        raise Exception('Points need to have the same dimensions') \n",
    "    s = 0\n",
    "    for i in range (len(p)):\n",
    "        s += abs(p[i] - q[i]) ** 2\n",
    "    return np.sqrt(s)"
   ]
  },
  {
   "cell_type": "markdown",
   "metadata": {},
   "source": [
    "#### Nearest Neighbour\n",
    "The nearest neighbour will take a test point p, as well as a training set where it must compare p to each point in this set, and lastly - a set of labels, or in this case the real digits, so that it can make a literal prediction."
   ]
  },
  {
   "cell_type": "code",
   "execution_count": 14,
   "metadata": {
    "collapsed": true
   },
   "outputs": [],
   "source": [
    "def nearest(p_test, training_points, labels):\n",
    "    maximum = float(\"inf\")\n",
    "    label = None\n",
    "    n = len(training_points)\n",
    "    for i in range(n):\n",
    "        d = dist(training_points[i], p_test)\n",
    "        if d < maximum:\n",
    "            maximum = d\n",
    "            label = labels[i]\n",
    "    return label"
   ]
  },
  {
   "cell_type": "code",
   "execution_count": 15,
   "metadata": {
    "collapsed": false,
    "scrolled": true
   },
   "outputs": [
    {
     "name": "stdout",
     "output_type": "stream",
     "text": [
      "3\n"
     ]
    }
   ],
   "source": [
    "print (nearest(drawn_digits[345], drawn_digits[0:10], real_digits))"
   ]
  },
  {
   "cell_type": "markdown",
   "metadata": {},
   "source": [
    "What should the target be?"
   ]
  },
  {
   "cell_type": "code",
   "execution_count": 16,
   "metadata": {
    "collapsed": false,
    "scrolled": true
   },
   "outputs": [
    {
     "name": "stdout",
     "output_type": "stream",
     "text": [
      "3\n"
     ]
    }
   ],
   "source": [
    "print(real_digits[345])"
   ]
  },
  {
   "cell_type": "markdown",
   "metadata": {},
   "source": [
    "Good!\n",
    "\n",
    "Lets try another one..."
   ]
  },
  {
   "cell_type": "code",
   "execution_count": 17,
   "metadata": {
    "collapsed": false
   },
   "outputs": [
    {
     "data": {
      "image/png": "[encoded data removed]",
      "text/plain": [
       "<matplotlib.figure.Figure at 0x11a4c7cf8>"
      ]
     },
     "metadata": {},
     "output_type": "display_data"
    }
   ],
   "source": [
    "plt.figure('Test digit')\n",
    "plt.imshow(img[725], cmap = plt.cm.gray_r, interpolation = 'nearest')\n",
    "plt.show()"
   ]
  },
  {
   "cell_type": "markdown",
   "metadata": {},
   "source": [
    "This looks like the number 0, let's see what the classifier thinks..!"
   ]
  },
  {
   "cell_type": "code",
   "execution_count": 18,
   "metadata": {
    "collapsed": false
   },
   "outputs": [
    {
     "name": "stdout",
     "output_type": "stream",
     "text": [
      "0\n"
     ]
    }
   ],
   "source": [
    "print (nearest(drawn_digits[725], drawn_digits[0:10], real_digits))"
   ]
  },
  {
   "cell_type": "markdown",
   "metadata": {},
   "source": [
    "Looks good - let see what the target should be:"
   ]
  },
  {
   "cell_type": "code",
   "execution_count": 19,
   "metadata": {
    "collapsed": false
   },
   "outputs": [
    {
     "name": "stdout",
     "output_type": "stream",
     "text": [
      "0\n"
     ]
    }
   ],
   "source": [
    "print(real_digits[725])"
   ]
  },
  {
   "cell_type": "markdown",
   "metadata": {},
   "source": [
    "Yep - all good."
   ]
  },
  {
   "cell_type": "markdown",
   "metadata": {},
   "source": [
    "## Testing multiple points!"
   ]
  },
  {
   "cell_type": "markdown",
   "metadata": {},
   "source": [
    "Firstly, we define a function to test whether a single datapoint was classified correctly:"
   ]
  },
  {
   "cell_type": "code",
   "execution_count": 20,
   "metadata": {
    "collapsed": false
   },
   "outputs": [],
   "source": [
    "def test_datapoint(p_test, real_value, training_points, REAL_DIGITS):\n",
    "    prediction = nearest(p_test, training_points, REAL_DIGITS)\n",
    "    return prediction == real_value"
   ]
  },
  {
   "cell_type": "markdown",
   "metadata": {},
   "source": [
    "Then, we define a function to test a range of test datapoints, given a range (which should be outside our set of test points, since that would be cheating...)"
   ]
  },
  {
   "cell_type": "code",
   "execution_count": 23,
   "metadata": {
    "collapsed": true
   },
   "outputs": [],
   "source": [
    "def compute_error_rate(training_points, DRAWN_DIGITS, REAL_DIGITS, start, end):\n",
    "    errors = 0\n",
    "    N = end - start\n",
    "    for i in range(start, end):\n",
    "        real_value = REAL_DIGITS[i]\n",
    "        correct_prediction = test_datapoint(DRAWN_DIGITS[i], real_value, training_points, REAL_DIGITS) \n",
    "        if not correct_prediction:\n",
    "            errors += 1\n",
    "    return (errors / N)"
   ]
  },
  {
   "cell_type": "markdown",
   "metadata": {},
   "source": [
    "Let us test it with the range 1697 - 1797, since the lecturer did this. He received an error rate of 37%, or 0.37\n",
    "\n",
    "Our tests data is still within the range of DATA[0 - 10], so no cheating is involved!"
   ]
  },
  {
   "cell_type": "code",
   "execution_count": 24,
   "metadata": {
    "collapsed": false
   },
   "outputs": [
    {
     "name": "stdout",
     "output_type": "stream",
     "text": [
      "0.37\n"
     ]
    }
   ],
   "source": [
    "rate_10_points = compute_error_rate(drawn_digits[0:10], drawn_digits, real_digits, 1697, 1797)\n",
    "print(rate_10_points)"
   ]
  },
  {
   "cell_type": "markdown",
   "metadata": {},
   "source": [
    "### It worked!"
   ]
  },
  {
   "cell_type": "markdown",
   "metadata": {},
   "source": [
    "So 37% missrate isn't too bad, but not too good either...\n",
    "\n",
    "Let us try expanding the training set to 100 datapoints, instead of 10.\n",
    "\n",
    "Hopefully this will decrease the error rate!"
   ]
  },
  {
   "cell_type": "code",
   "execution_count": 137,
   "metadata": {
    "collapsed": false
   },
   "outputs": [
    {
     "name": "stdout",
     "output_type": "stream",
     "text": [
      "0.14\n"
     ]
    }
   ],
   "source": [
    "rate_100_points = compute_error_rate(drawn_digits[0:100], drawn_digits, real_digits, 1697, 1797)\n",
    "print(rate_100_points)"
   ]
  },
  {
   "cell_type": "markdown",
   "metadata": {},
   "source": [
    "Getting there... How about 1000 points?!?"
   ]
  },
  {
   "cell_type": "code",
   "execution_count": 25,
   "metadata": {
    "collapsed": false
   },
   "outputs": [
    {
     "name": "stdout",
     "output_type": "stream",
     "text": [
      "0.03\n"
     ]
    }
   ],
   "source": [
    "rate_1000_points = compute_error_rate(drawn_digits[0:1000], drawn_digits, real_digits, 1697, 1797)\n",
    "print(rate_1000_points)"
   ]
  },
  {
   "cell_type": "markdown",
   "metadata": {},
   "source": [
    "### Not too shabby..!"
   ]
  },
  {
   "cell_type": "markdown",
   "metadata": {},
   "source": [
    "## What we test on points within our training data set?"
   ]
  },
  {
   "cell_type": "markdown",
   "metadata": {},
   "source": [
    "Good question - let us try for simplicity to test 10 (11 actually...) points in DATA[0 - 10], and using the same exact points as the training set:"
   ]
  },
  {
   "cell_type": "code",
   "execution_count": 26,
   "metadata": {
    "collapsed": false
   },
   "outputs": [
    {
     "name": "stdout",
     "output_type": "stream",
     "text": [
      "0.0\n"
     ]
    }
   ],
   "source": [
    "cheating = compute_error_rate(drawn_digits[0:10], drawn_digits, real_digits, 0, 10)\n",
    "print(cheating)"
   ]
  },
  {
   "cell_type": "markdown",
   "metadata": {},
   "source": [
    "Unsurprisingly we get an error rate of zero percent!"
   ]
  },
  {
   "cell_type": "markdown",
   "metadata": {},
   "source": [
    "## Is more training data better?"
   ]
  },
  {
   "cell_type": "code",
   "execution_count": 27,
   "metadata": {
    "collapsed": false
   },
   "outputs": [
    {
     "name": "stdout",
     "output_type": "stream",
     "text": [
      "[0.37, 0.24, 0.13, 0.14, 0.14, 0.07, 0.02, 0.03]\n"
     ]
    }
   ],
   "source": [
    "x_rates = [10, 20, 50, 100, 200, 500, 800, 1000]\n",
    "y_rates = []\n",
    "for i in range(len(x_rates)):\n",
    "    x = x_rates[i]\n",
    "    r = compute_error_rate(drawn_digits[0:x], drawn_digits, real_digits, 1697, 1797)\n",
    "    y_rates.append(r)\n",
    "print(y_rates)"
   ]
  },
  {
   "cell_type": "code",
   "execution_count": 28,
   "metadata": {
    "collapsed": false
   },
   "outputs": [
    {
     "data": {
      "image/png": "[encoded data removed]",
      "text/plain": [
       "<matplotlib.figure.Figure at 0x11a346390>"
      ]
     },
     "metadata": {},
     "output_type": "display_data"
    }
   ],
   "source": [
    "plt.figure('Failure rate as a function of the number of training points')\n",
    "plt.scatter(x_rates, y_rates, s=100, color='green')\n",
    "plt.show()"
   ]
  },
  {
   "cell_type": "markdown",
   "metadata": {},
   "source": [
    "Generally, (and intuitively) - Yes!\n",
    "\n",
    "However it seems that there are certain breakpoints in our example, where the prediction gets slightly worse, the more test data the algorithm gets fed. \n",
    "\n",
    "As an example, the error rate goes from 2% (800 test points) up to 3% (1000 test points)"
   ]
  },
  {
   "cell_type": "markdown",
   "metadata": {},
   "source": [
    "## In conclusion"
   ]
  },
  {
   "cell_type": "markdown",
   "metadata": {},
   "source": [
    "We've learned a lot today, haven't we? \n",
    "\n",
    "Anyways, here is a picture of a loaf doge:"
   ]
  },
  {
   "cell_type": "code",
   "execution_count": 162,
   "metadata": {
    "collapsed": false
   },
   "outputs": [
    {
     "data": {
      "text/html": [
       "<img src=\"doge.jpg\" width=\"400\" height=\"400\"/>"
      ],
      "text/plain": [
       "<IPython.core.display.Image object>"
      ]
     },
     "execution_count": 162,
     "metadata": {},
     "output_type": "execute_result"
    }
   ],
   "source": [
    "from IPython.display import Image\n",
    "from IPython.core.display import HTML \n",
    "Image(url= \"doge.jpg\", width=400, height=400)"
   ]
  },
  {
   "cell_type": "code",
   "execution_count": null,
   "metadata": {
    "collapsed": true
   },
   "outputs": [],
   "source": []
  }
 ],
 "metadata": {
  "kernelspec": {
   "display_name": "Python 3",
   "language": "python",
   "name": "python3"
  },
  "language_info": {
   "codemirror_mode": {
    "name": "ipython",
    "version": 3
   },
   "file_extension": ".py",
   "mimetype": "text/x-python",
   "name": "python",
   "nbconvert_exporter": "python",
   "pygments_lexer": "ipython3",
   "version": "3.6.0"
  }
 },
 "nbformat": 4,
 "nbformat_minor": 2
}
